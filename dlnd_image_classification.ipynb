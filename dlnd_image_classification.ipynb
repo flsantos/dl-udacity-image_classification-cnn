{
 "cells": [
  {
   "cell_type": "markdown",
   "metadata": {
    "collapsed": true,
    "deletable": true,
    "editable": true
   },
   "source": [
    "# Image Classification\n",
    "In this project, you'll classify images from the [CIFAR-10 dataset](https://www.cs.toronto.edu/~kriz/cifar.html).  The dataset consists of airplanes, dogs, cats, and other objects. You'll preprocess the images, then train a convolutional neural network on all the samples. The images need to be normalized and the labels need to be one-hot encoded.  You'll get to apply what you learned and build a convolutional, max pooling, dropout, and fully connected layers.  At the end, you'll get to see your neural network's predictions on the sample images.\n",
    "## Get the Data\n",
    "Run the following cell to download the [CIFAR-10 dataset for python](https://www.cs.toronto.edu/~kriz/cifar-10-python.tar.gz)."
   ]
  },
  {
   "cell_type": "code",
   "execution_count": 1,
   "metadata": {
    "collapsed": false,
    "deletable": true,
    "editable": true
   },
   "outputs": [
    {
     "name": "stderr",
     "output_type": "stream",
     "text": [
      "CIFAR-10 Dataset: 171MB [00:35, 4.86MB/s]                              \n"
     ]
    },
    {
     "name": "stdout",
     "output_type": "stream",
     "text": [
      "All files found!\n"
     ]
    }
   ],
   "source": [
    "\"\"\"\n",
    "DON'T MODIFY ANYTHING IN THIS CELL THAT IS BELOW THIS LINE\n",
    "\"\"\"\n",
    "from urllib.request import urlretrieve\n",
    "from os.path import isfile, isdir\n",
    "from tqdm import tqdm\n",
    "import problem_unittests as tests\n",
    "import tarfile\n",
    "\n",
    "cifar10_dataset_folder_path = 'cifar-10-batches-py'\n",
    "\n",
    "# Use Floyd's cifar-10 dataset if present\n",
    "floyd_cifar10_location = '/input/cifar-10/python.tar.gz'\n",
    "if isfile(floyd_cifar10_location):\n",
    "    tar_gz_path = floyd_cifar10_location\n",
    "else:\n",
    "    tar_gz_path = 'cifar-10-python.tar.gz'\n",
    "\n",
    "class DLProgress(tqdm):\n",
    "    last_block = 0\n",
    "\n",
    "    def hook(self, block_num=1, block_size=1, total_size=None):\n",
    "        self.total = total_size\n",
    "        self.update((block_num - self.last_block) * block_size)\n",
    "        self.last_block = block_num\n",
    "\n",
    "if not isfile(tar_gz_path):\n",
    "    with DLProgress(unit='B', unit_scale=True, miniters=1, desc='CIFAR-10 Dataset') as pbar:\n",
    "        urlretrieve(\n",
    "            'https://www.cs.toronto.edu/~kriz/cifar-10-python.tar.gz',\n",
    "            tar_gz_path,\n",
    "            pbar.hook)\n",
    "\n",
    "if not isdir(cifar10_dataset_folder_path):\n",
    "    with tarfile.open(tar_gz_path) as tar:\n",
    "        tar.extractall()\n",
    "        tar.close()\n",
    "\n",
    "\n",
    "tests.test_folder_path(cifar10_dataset_folder_path)"
   ]
  },
  {
   "cell_type": "markdown",
   "metadata": {
    "deletable": true,
    "editable": true
   },
   "source": [
    "## Explore the Data\n",
    "The dataset is broken into batches to prevent your machine from running out of memory.  The CIFAR-10 dataset consists of 5 batches, named `data_batch_1`, `data_batch_2`, etc.. Each batch contains the labels and images that are one of the following:\n",
    "* airplane\n",
    "* automobile\n",
    "* bird\n",
    "* cat\n",
    "* deer\n",
    "* dog\n",
    "* frog\n",
    "* horse\n",
    "* ship\n",
    "* truck\n",
    "\n",
    "Understanding a dataset is part of making predictions on the data.  Play around with the code cell below by changing the `batch_id` and `sample_id`. The `batch_id` is the id for a batch (1-5). The `sample_id` is the id for a image and label pair in the batch.\n",
    "\n",
    "Ask yourself \"What are all possible labels?\", \"What is the range of values for the image data?\", \"Are the labels in order or random?\".  Answers to questions like these will help you preprocess the data and end up with better predictions."
   ]
  },
  {
   "cell_type": "code",
   "execution_count": 2,
   "metadata": {
    "collapsed": false,
    "deletable": true,
    "editable": true
   },
   "outputs": [
    {
     "name": "stdout",
     "output_type": "stream",
     "text": [
      "\n",
      "Stats of batch 1:\n",
      "Samples: 10000\n",
      "Label Counts: {0: 1005, 1: 974, 2: 1032, 3: 1016, 4: 999, 5: 937, 6: 1030, 7: 1001, 8: 1025, 9: 981}\n",
      "First 20 Labels: [6, 9, 9, 4, 1, 1, 2, 7, 8, 3, 4, 7, 7, 2, 9, 9, 9, 3, 2, 6]\n",
      "\n",
      "Example of Image 5:\n",
      "Image - Min Value: 0 Max Value: 252\n",
      "Image - Shape: (32, 32, 3)\n",
      "Label - Label Id: 1 Name: automobile\n"
     ]
    },
    {
     "data": {
      "image/png": "[encoded data removed]",
      "text/plain": [
       "<matplotlib.figure.Figure at 0x7ff0d1ef5358>"
      ]
     },
     "metadata": {
      "image/png": {
       "height": 250,
       "width": 253
      }
     },
     "output_type": "display_data"
    }
   ],
   "source": [
    "%matplotlib inline\n",
    "%config InlineBackend.figure_format = 'retina'\n",
    "\n",
    "import helper\n",
    "import numpy as np\n",
    "\n",
    "# Explore the dataset\n",
    "batch_id = 1\n",
    "sample_id = 5\n",
    "helper.display_stats(cifar10_dataset_folder_path, batch_id, sample_id)"
   ]
  },
  {
   "cell_type": "markdown",
   "metadata": {
    "deletable": true,
    "editable": true
   },
   "source": [
    "## Implement Preprocess Functions\n",
    "### Normalize\n",
    "In the cell below, implement the `normalize` function to take in image data, `x`, and return it as a normalized Numpy array. The values should be in the range of 0 to 1, inclusive.  The return object should be the same shape as `x`."
   ]
  },
  {
   "cell_type": "code",
   "execution_count": 3,
   "metadata": {
    "collapsed": false,
    "deletable": true,
    "editable": true
   },
   "outputs": [
    {
     "name": "stdout",
     "output_type": "stream",
     "text": [
      "Tests Passed\n"
     ]
    }
   ],
   "source": [
    "def normalize(x):\n",
    "    \"\"\"\n",
    "    Normalize a list of sample image data in the range of 0 to 1\n",
    "    : x: List of image data.  The image shape is (32, 32, 3)\n",
    "    : return: Numpy array of normalize data\n",
    "    \"\"\"\n",
    "    # TODO: Implement Function\n",
    "    return x/255.0\n",
    "\n",
    "\n",
    "\"\"\"\n",
    "DON'T MODIFY ANYTHING IN THIS CELL THAT IS BELOW THIS LINE\n",
    "\"\"\"\n",
    "tests.test_normalize(normalize)"
   ]
  },
  {
   "cell_type": "markdown",
   "metadata": {
    "deletable": true,
    "editable": true
   },
   "source": [
    "### One-hot encode\n",
    "Just like the previous code cell, you'll be implementing a function for preprocessing.  This time, you'll implement the `one_hot_encode` function. The input, `x`, are a list of labels.  Implement the function to return the list of labels as One-Hot encoded Numpy array.  The possible values for labels are 0 to 9. The one-hot encoding function should return the same encoding for each value between each call to `one_hot_encode`.  Make sure to save the map of encodings outside the function.\n",
    "\n",
    "Hint: Don't reinvent the wheel."
   ]
  },
  {
   "cell_type": "code",
   "execution_count": 4,
   "metadata": {
    "collapsed": false,
    "deletable": true,
    "editable": true
   },
   "outputs": [
    {
     "name": "stdout",
     "output_type": "stream",
     "text": [
      "Tests Passed\n"
     ]
    }
   ],
   "source": [
    "def one_hot_encode(x):\n",
    "    \"\"\"\n",
    "    One hot encode a list of sample labels. Return a one-hot encoded vector for each label.\n",
    "    : x: List of sample Labels\n",
    "    : return: Numpy array of one-hot encoded labels\n",
    "    \"\"\"\n",
    "    # TODO: Implement Function\n",
    "    result = np.zeros((len(x), 10))\n",
    "    result[np.arange(len(x)), x] = 1\n",
    "    return result.astype(int)\n",
    "\n",
    "\n",
    "\"\"\"\n",
    "DON'T MODIFY ANYTHING IN THIS CELL THAT IS BELOW THIS LINE\n",
    "\"\"\"\n",
    "tests.test_one_hot_encode(one_hot_encode)"
   ]
  },
  {
   "cell_type": "markdown",
   "metadata": {
    "deletable": true,
    "editable": true
   },
   "source": [
    "### Randomize Data\n",
    "As you saw from exploring the data above, the order of the samples are randomized.  It doesn't hurt to randomize it again, but you don't need to for this dataset."
   ]
  },
  {
   "cell_type": "markdown",
   "metadata": {
    "deletable": true,
    "editable": true
   },
   "source": [
    "## Preprocess all the data and save it\n",
    "Running the code cell below will preprocess all the CIFAR-10 data and save it to file. The code below also uses 10% of the training data for validation."
   ]
  },
  {
   "cell_type": "code",
   "execution_count": 5,
   "metadata": {
    "collapsed": false,
    "deletable": true,
    "editable": true
   },
   "outputs": [],
   "source": [
    "\"\"\"\n",
    "DON'T MODIFY ANYTHING IN THIS CELL\n",
    "\"\"\"\n",
    "# Preprocess Training, Validation, and Testing Data\n",
    "helper.preprocess_and_save_data(cifar10_dataset_folder_path, normalize, one_hot_encode)"
   ]
  },
  {
   "cell_type": "markdown",
   "metadata": {
    "deletable": true,
    "editable": true
   },
   "source": [
    "# Check Point\n",
    "This is your first checkpoint.  If you ever decide to come back to this notebook or have to restart the notebook, you can start from here.  The preprocessed data has been saved to disk."
   ]
  },
  {
   "cell_type": "code",
   "execution_count": 6,
   "metadata": {
    "collapsed": true,
    "deletable": true,
    "editable": true
   },
   "outputs": [],
   "source": [
    "\"\"\"\n",
    "DON'T MODIFY ANYTHING IN THIS CELL\n",
    "\"\"\"\n",
    "import pickle\n",
    "import problem_unittests as tests\n",
    "import helper\n",
    "\n",
    "# Load the Preprocessed Validation data\n",
    "valid_features, valid_labels = pickle.load(open('preprocess_validation.p', mode='rb'))"
   ]
  },
  {
   "cell_type": "markdown",
   "metadata": {
    "deletable": true,
    "editable": true
   },
   "source": [
    "## Build the network\n",
    "For the neural network, you'll build each layer into a function.  Most of the code you've seen has been outside of functions. To test your code more thoroughly, we require that you put each layer in a function.  This allows us to give you better feedback and test for simple mistakes using our unittests before you submit your project.\n",
    "\n",
    ">**Note:** If you're finding it hard to dedicate enough time for this course each week, we've provided a small shortcut to this part of the project. In the next couple of problems, you'll have the option to use classes from the [TensorFlow Layers](https://www.tensorflow.org/api_docs/python/tf/layers) or [TensorFlow Layers (contrib)](https://www.tensorflow.org/api_guides/python/contrib.layers) packages to build each layer, except the layers you build in the \"Convolutional and Max Pooling Layer\" section.  TF Layers is similar to Keras's and TFLearn's abstraction to layers, so it's easy to pickup.\n",
    "\n",
    ">However, if you would like to get the most out of this course, try to solve all the problems _without_ using anything from the TF Layers packages. You **can** still use classes from other packages that happen to have the same name as ones you find in TF Layers! For example, instead of using the TF Layers version of the `conv2d` class, [tf.layers.conv2d](https://www.tensorflow.org/api_docs/python/tf/layers/conv2d), you would want to use the TF Neural Network version of `conv2d`, [tf.nn.conv2d](https://www.tensorflow.org/api_docs/python/tf/nn/conv2d). \n",
    "\n",
    "Let's begin!\n",
    "\n",
    "### Input\n",
    "The neural network needs to read the image data, one-hot encoded labels, and dropout keep probability. Implement the following functions\n",
    "* Implement `neural_net_image_input`\n",
    " * Return a [TF Placeholder](https://www.tensorflow.org/api_docs/python/tf/placeholder)\n",
    " * Set the shape using `image_shape` with batch size set to `None`.\n",
    " * Name the TensorFlow placeholder \"x\" using the TensorFlow `name` parameter in the [TF Placeholder](https://www.tensorflow.org/api_docs/python/tf/placeholder).\n",
    "* Implement `neural_net_label_input`\n",
    " * Return a [TF Placeholder](https://www.tensorflow.org/api_docs/python/tf/placeholder)\n",
    " * Set the shape using `n_classes` with batch size set to `None`.\n",
    " * Name the TensorFlow placeholder \"y\" using the TensorFlow `name` parameter in the [TF Placeholder](https://www.tensorflow.org/api_docs/python/tf/placeholder).\n",
    "* Implement `neural_net_keep_prob_input`\n",
    " * Return a [TF Placeholder](https://www.tensorflow.org/api_docs/python/tf/placeholder) for dropout keep probability.\n",
    " * Name the TensorFlow placeholder \"keep_prob\" using the TensorFlow `name` parameter in the [TF Placeholder](https://www.tensorflow.org/api_docs/python/tf/placeholder).\n",
    "\n",
    "These names will be used at the end of the project to load your saved model.\n",
    "\n",
    "Note: `None` for shapes in TensorFlow allow for a dynamic size."
   ]
  },
  {
   "cell_type": "code",
   "execution_count": 7,
   "metadata": {
    "collapsed": false,
    "deletable": true,
    "editable": true
   },
   "outputs": [
    {
     "name": "stdout",
     "output_type": "stream",
     "text": [
      "Image Input Tests Passed.\n",
      "Label Input Tests Passed.\n",
      "Keep Prob Tests Passed.\n"
     ]
    }
   ],
   "source": [
    "import tensorflow as tf\n",
    "\n",
    "def neural_net_image_input(image_shape):\n",
    "    \"\"\"\n",
    "    Return a Tensor for a batch of image input\n",
    "    : image_shape: Shape of the images\n",
    "    : return: Tensor for image input.\n",
    "    \"\"\"\n",
    "    # TODO: Implement Function\n",
    "    x = tf.placeholder(tf.float32, shape=(None, 32, 32, 3), name='x')\n",
    "    return x\n",
    "\n",
    "\n",
    "def neural_net_label_input(n_classes):\n",
    "    \"\"\"\n",
    "    Return a Tensor for a batch of label input\n",
    "    : n_classes: Number of classes\n",
    "    : return: Tensor for label input.\n",
    "    \"\"\"\n",
    "    # TODO: Implement Function\n",
    "    y = tf.placeholder(tf.int32, shape=(None, n_classes), name='y')\n",
    "    return y\n",
    "\n",
    "\n",
    "def neural_net_keep_prob_input():\n",
    "    \"\"\"\n",
    "    Return a Tensor for keep probability\n",
    "    : return: Tensor for keep probability.\n",
    "    \"\"\"\n",
    "    keep_prob = tf.placeholder(tf.float32, None, 'keep_prob')\n",
    "    return keep_prob\n",
    "\n",
    "\n",
    "\"\"\"\n",
    "DON'T MODIFY ANYTHING IN THIS CELL THAT IS BELOW THIS LINE\n",
    "\"\"\"\n",
    "tf.reset_default_graph()\n",
    "tests.test_nn_image_inputs(neural_net_image_input)\n",
    "tests.test_nn_label_inputs(neural_net_label_input)\n",
    "tests.test_nn_keep_prob_inputs(neural_net_keep_prob_input)"
   ]
  },
  {
   "cell_type": "markdown",
   "metadata": {
    "deletable": true,
    "editable": true
   },
   "source": [
    "### Convolution and Max Pooling Layer\n",
    "Convolution layers have a lot of success with images. For this code cell, you should implement the function `conv2d_maxpool` to apply convolution then max pooling:\n",
    "* Create the weight and bias using `conv_ksize`, `conv_num_outputs` and the shape of `x_tensor`.\n",
    "* Apply a convolution to `x_tensor` using weight and `conv_strides`.\n",
    " * We recommend you use same padding, but you're welcome to use any padding.\n",
    "* Add bias\n",
    "* Add a nonlinear activation to the convolution.\n",
    "* Apply Max Pooling using `pool_ksize` and `pool_strides`.\n",
    " * We recommend you use same padding, but you're welcome to use any padding.\n",
    "\n",
    "**Note:** You **can't** use [TensorFlow Layers](https://www.tensorflow.org/api_docs/python/tf/layers) or [TensorFlow Layers (contrib)](https://www.tensorflow.org/api_guides/python/contrib.layers) for **this** layer, but you can still use TensorFlow's [Neural Network](https://www.tensorflow.org/api_docs/python/tf/nn) package. You may still use the shortcut option for all the **other** layers."
   ]
  },
  {
   "cell_type": "code",
   "execution_count": 24,
   "metadata": {
    "collapsed": false,
    "deletable": true,
    "editable": true
   },
   "outputs": [
    {
     "name": "stdout",
     "output_type": "stream",
     "text": [
      "Tests Passed\n"
     ]
    }
   ],
   "source": [
    "def conv2d_maxpool(x_tensor, conv_num_outputs, conv_ksize, conv_strides, pool_ksize, pool_strides):\n",
    "    \"\"\"\n",
    "    Apply convolution then max pooling to x_tensor\n",
    "    :param x_tensor: TensorFlow Tensor\n",
    "    :param conv_num_outputs: Number of outputs for the convolutional layer\n",
    "    :param conv_ksize: kernal size 2-D Tuple for the convolutional layer\n",
    "    :param conv_strides: Stride 2-D Tuple for convolution\n",
    "    :param pool_ksize: kernal size 2-D Tuple for pool\n",
    "    :param pool_strides: Stride 2-D Tuple for pool\n",
    "    : return: A tensor that represents convolution and max pooling of x_tensor\n",
    "    \"\"\"\n",
    "    \n",
    "    # TODO: Implement Function\n",
    "    weight = tf.Variable(tf.truncated_normal([conv_ksize[0], conv_ksize[1], int(x_tensor.shape[3]), conv_num_outputs], stddev=1/32.0))\n",
    "    bias = tf.Variable(tf.zeros(conv_num_outputs))\n",
    "    \n",
    "    # Apply Convolution\n",
    "    conv_layer = tf.nn.conv2d(x_tensor, weight, strides=[1, conv_strides[0],conv_strides[1], 1], padding='SAME')\n",
    "    # Add bias\n",
    "    conv_layer = tf.nn.bias_add(conv_layer, bias)\n",
    "    # Apply activation function\n",
    "    conv_layer = tf.nn.relu(conv_layer)\n",
    "    \n",
    "    # Apply Max Pooling\n",
    "    conv_layer = tf.nn.max_pool(conv_layer, ksize=[1, pool_ksize[0],pool_ksize[1], 1], strides=[1, pool_strides[0],pool_strides[1], 1], padding='SAME')\n",
    "    \n",
    "    \n",
    "    return conv_layer\n",
    "\n",
    "\n",
    "\"\"\"\n",
    "DON'T MODIFY ANYTHING IN THIS CELL THAT IS BELOW THIS LINE\n",
    "\"\"\"\n",
    "tests.test_con_pool(conv2d_maxpool)"
   ]
  },
  {
   "cell_type": "markdown",
   "metadata": {
    "deletable": true,
    "editable": true
   },
   "source": [
    "### Flatten Layer\n",
    "Implement the `flatten` function to change the dimension of `x_tensor` from a 4-D tensor to a 2-D tensor.  The output should be the shape (*Batch Size*, *Flattened Image Size*). Shortcut option: you can use classes from the [TensorFlow Layers](https://www.tensorflow.org/api_docs/python/tf/layers) or [TensorFlow Layers (contrib)](https://www.tensorflow.org/api_guides/python/contrib.layers) packages for this layer. For more of a challenge, only use other TensorFlow packages."
   ]
  },
  {
   "cell_type": "code",
   "execution_count": 9,
   "metadata": {
    "collapsed": false,
    "deletable": true,
    "editable": true
   },
   "outputs": [
    {
     "name": "stdout",
     "output_type": "stream",
     "text": [
      "Tests Passed\n"
     ]
    }
   ],
   "source": [
    "def flatten(x_tensor):\n",
    "    \"\"\"\n",
    "    Flatten x_tensor to (Batch Size, Flattened Image Size)\n",
    "    : x_tensor: A tensor of size (Batch Size, ...), where ... are the image dimensions.\n",
    "    : return: A tensor of size (Batch Size, Flattened Image Size).\n",
    "    \"\"\"\n",
    "    # TODO: Implement Function\n",
    "    return tf.reshape(x_tensor,[-1, int(x_tensor.shape[1]*x_tensor.shape[2]*x_tensor.shape[3])])\n",
    "\n",
    "\n",
    "\"\"\"\n",
    "DON'T MODIFY ANYTHING IN THIS CELL THAT IS BELOW THIS LINE\n",
    "\"\"\"\n",
    "tests.test_flatten(flatten)"
   ]
  },
  {
   "cell_type": "markdown",
   "metadata": {
    "deletable": true,
    "editable": true
   },
   "source": [
    "### Fully-Connected Layer\n",
    "Implement the `fully_conn` function to apply a fully connected layer to `x_tensor` with the shape (*Batch Size*, *num_outputs*). Shortcut option: you can use classes from the [TensorFlow Layers](https://www.tensorflow.org/api_docs/python/tf/layers) or [TensorFlow Layers (contrib)](https://www.tensorflow.org/api_guides/python/contrib.layers) packages for this layer. For more of a challenge, only use other TensorFlow packages."
   ]
  },
  {
   "cell_type": "code",
   "execution_count": 25,
   "metadata": {
    "collapsed": false,
    "deletable": true,
    "editable": true
   },
   "outputs": [
    {
     "name": "stdout",
     "output_type": "stream",
     "text": [
      "Tests Passed\n"
     ]
    }
   ],
   "source": [
    "def fully_conn(x_tensor, num_outputs):\n",
    "    \"\"\"\n",
    "    Apply a fully connected layer to x_tensor using weight and bias\n",
    "    : x_tensor: A 2-D tensor where the first dimension is batch size.\n",
    "    : num_outputs: The number of output that the new tensor should be.\n",
    "    : return: A 2-D tensor where the second dimension is num_outputs.\n",
    "    \"\"\"\n",
    "\n",
    "    weights = tf.Variable(tf.truncated_normal([int(x_tensor.shape[1]), num_outputs], stddev=1/32.0))\n",
    "    biases = tf.Variable(tf.zeros(num_outputs))\n",
    "    \n",
    "    fully_connected = tf.add(tf.matmul(x_tensor, weights), biases)\n",
    "    fully_connected = tf.nn.relu(fully_connected)\n",
    "    \n",
    "    return fully_connected\n",
    "\n",
    "\n",
    "\"\"\"\n",
    "DON'T MODIFY ANYTHING IN THIS CELL THAT IS BELOW THIS LINE\n",
    "\"\"\"\n",
    "tests.test_fully_conn(fully_conn)"
   ]
  },
  {
   "cell_type": "markdown",
   "metadata": {
    "deletable": true,
    "editable": true
   },
   "source": [
    "### Output Layer\n",
    "Implement the `output` function to apply a fully connected layer to `x_tensor` with the shape (*Batch Size*, *num_outputs*). Shortcut option: you can use classes from the [TensorFlow Layers](https://www.tensorflow.org/api_docs/python/tf/layers) or [TensorFlow Layers (contrib)](https://www.tensorflow.org/api_guides/python/contrib.layers) packages for this layer. For more of a challenge, only use other TensorFlow packages.\n",
    "\n",
    "**Note:** Activation, softmax, or cross entropy should **not** be applied to this."
   ]
  },
  {
   "cell_type": "code",
   "execution_count": 26,
   "metadata": {
    "collapsed": false,
    "deletable": true,
    "editable": true
   },
   "outputs": [
    {
     "name": "stdout",
     "output_type": "stream",
     "text": [
      "Tests Passed\n"
     ]
    }
   ],
   "source": [
    "def output(x_tensor, num_outputs):\n",
    "    \"\"\"\n",
    "    Apply a output layer to x_tensor using weight and bias\n",
    "    : x_tensor: A 2-D tensor where the first dimension is batch size.\n",
    "    : num_outputs: The number of output that the new tensor should be.\n",
    "    : return: A 2-D tensor where the second dimension is num_outputs.\n",
    "    \"\"\"\n",
    "    \n",
    "    weights = tf.Variable(tf.truncated_normal([int(x_tensor.shape[1]), num_outputs], stddev=1/32.0))\n",
    "    biases = tf.Variable(tf.zeros(num_outputs))\n",
    "    \n",
    "    output_layer = tf.add(tf.matmul(x_tensor, weights), biases)\n",
    "    \n",
    "    return output_layer\n",
    "\n",
    "\n",
    "\"\"\"\n",
    "DON'T MODIFY ANYTHING IN THIS CELL THAT IS BELOW THIS LINE\n",
    "\"\"\"\n",
    "tests.test_output(output)"
   ]
  },
  {
   "cell_type": "markdown",
   "metadata": {
    "deletable": true,
    "editable": true
   },
   "source": [
    "### Create Convolutional Model\n",
    "Implement the function `conv_net` to create a convolutional neural network model. The function takes in a batch of images, `x`, and outputs logits.  Use the layers you created above to create this model:\n",
    "\n",
    "* Apply 1, 2, or 3 Convolution and Max Pool layers\n",
    "* Apply a Flatten Layer\n",
    "* Apply 1, 2, or 3 Fully Connected Layers\n",
    "* Apply an Output Layer\n",
    "* Return the output\n",
    "* Apply [TensorFlow's Dropout](https://www.tensorflow.org/api_docs/python/tf/nn/dropout) to one or more layers in the model using `keep_prob`. "
   ]
  },
  {
   "cell_type": "code",
   "execution_count": 42,
   "metadata": {
    "collapsed": false,
    "deletable": true,
    "editable": true
   },
   "outputs": [
    {
     "name": "stdout",
     "output_type": "stream",
     "text": [
      "Neural Network Built!\n"
     ]
    }
   ],
   "source": [
    "def conv_net(x, keep_prob):\n",
    "    \"\"\"\n",
    "    Create a convolutional neural network model\n",
    "    : x: Placeholder tensor that holds image data.\n",
    "    : keep_prob: Placeholder tensor that hold dropout keep probability.\n",
    "    : return: Tensor that represents logits\n",
    "    \"\"\"\n",
    "    # TODO: Apply 1, 2, or 3 Convolution and Max Pool layers\n",
    "    #    Play around with different number of outputs, kernel size and stride\n",
    "    # Function Definition from Above:\n",
    "    #    conv2d_maxpool(x_tensor, conv_num_outputs, conv_ksize, conv_strides, pool_ksize, pool_strides)\n",
    "    conv = conv2d_maxpool(x, 32, (5,5), (1,1), (2,2), (2,2))\n",
    "    \n",
    "    #conv = tf.nn.dropout(conv, keep_prob)\n",
    "    \n",
    "    conv = conv2d_maxpool(conv, 64, (5,5), (1,1), (2,2), (2,2))\n",
    "    \n",
    "    conv = tf.nn.dropout(conv, keep_prob)\n",
    "    \n",
    "    conv = conv2d_maxpool(conv, 128, (5,5), (1,1), (2,2), (2,2))\n",
    "    \n",
    "\n",
    "    # TODO: Apply a Flatten Layer\n",
    "    # Function Definition from Above:\n",
    "    #   flatten(x_tensor)\n",
    "    conv = flatten(conv)\n",
    "    \n",
    "    \n",
    "    #Dropout after convs\n",
    "    #conv = tf.nn.dropout(conv, keep_prob)\n",
    "    \n",
    "    \n",
    "    \n",
    "    \n",
    "    # TODO: Apply 1, 2, or 3 Fully Connected Layers\n",
    "    #    Play around with different number of outputs\n",
    "    # Function Definition from Above:\n",
    "    #   fully_conn(x_tensor, num_outputs)\n",
    "    \n",
    "    full = fully_conn(conv, 1024)\n",
    "    \n",
    "    #Dropout after full1\n",
    "    full = tf.nn.dropout(full, keep_prob)\n",
    "    \n",
    "    \n",
    "    full = fully_conn(full, 2048)\n",
    "    \n",
    "    \n",
    "    # TODO: Apply an Output Layer\n",
    "    #    Set this to the number of classes\n",
    "    # Function Definition from Above:\n",
    "    #   output(x_tensor, num_outputs)\n",
    "    \n",
    "    out = output(full, 10)\n",
    "    \n",
    "    \n",
    "    # TODO: return output\n",
    "    return out\n",
    "\n",
    "\n",
    "\"\"\"\n",
    "DON'T MODIFY ANYTHING IN THIS CELL THAT IS BELOW THIS LINE\n",
    "\"\"\"\n",
    "\n",
    "##############################\n",
    "## Build the Neural Network ##\n",
    "##############################\n",
    "\n",
    "# Remove previous weights, bias, inputs, etc..\n",
    "tf.reset_default_graph()\n",
    "\n",
    "# Inputs\n",
    "x = neural_net_image_input((32, 32, 3))\n",
    "y = neural_net_label_input(10)\n",
    "keep_prob = neural_net_keep_prob_input()\n",
    "\n",
    "# Model\n",
    "logits = conv_net(x, keep_prob)\n",
    "\n",
    "# Name logits Tensor, so that is can be loaded from disk after training\n",
    "logits = tf.identity(logits, name='logits')\n",
    "\n",
    "# Loss and Optimizer\n",
    "cost = tf.reduce_mean(tf.nn.softmax_cross_entropy_with_logits(logits=logits, labels=y))\n",
    "optimizer = tf.train.AdamOptimizer().minimize(cost)\n",
    "\n",
    "# Accuracy\n",
    "correct_pred = tf.equal(tf.argmax(logits, 1), tf.argmax(y, 1))\n",
    "accuracy = tf.reduce_mean(tf.cast(correct_pred, tf.float32), name='accuracy')\n",
    "\n",
    "tests.test_conv_net(conv_net)"
   ]
  },
  {
   "cell_type": "markdown",
   "metadata": {
    "deletable": true,
    "editable": true
   },
   "source": [
    "## Train the Neural Network\n",
    "### Single Optimization\n",
    "Implement the function `train_neural_network` to do a single optimization.  The optimization should use `optimizer` to optimize in `session` with a `feed_dict` of the following:\n",
    "* `x` for image input\n",
    "* `y` for labels\n",
    "* `keep_prob` for keep probability for dropout\n",
    "\n",
    "This function will be called for each batch, so `tf.global_variables_initializer()` has already been called.\n",
    "\n",
    "Note: Nothing needs to be returned. This function is only optimizing the neural network."
   ]
  },
  {
   "cell_type": "code",
   "execution_count": 13,
   "metadata": {
    "collapsed": false,
    "deletable": true,
    "editable": true
   },
   "outputs": [
    {
     "name": "stdout",
     "output_type": "stream",
     "text": [
      "Tests Passed\n"
     ]
    }
   ],
   "source": [
    "def train_neural_network(session, optimizer, keep_probability, feature_batch, label_batch):\n",
    "    \"\"\"\n",
    "    Optimize the session on a batch of images and labels\n",
    "    : session: Current TensorFlow session\n",
    "    : optimizer: TensorFlow optimizer function\n",
    "    : keep_probability: keep probability\n",
    "    : feature_batch: Batch of Numpy image data\n",
    "    : label_batch: Batch of Numpy label data\n",
    "    \"\"\"\n",
    "    session.run(optimizer, feed_dict={\n",
    "                x: feature_batch,\n",
    "                y: label_batch,\n",
    "                keep_prob: keep_probability})\n",
    "    \n",
    "\n",
    "\n",
    "\"\"\"\n",
    "DON'T MODIFY ANYTHING IN THIS CELL THAT IS BELOW THIS LINE\n",
    "\"\"\"\n",
    "tests.test_train_nn(train_neural_network)"
   ]
  },
  {
   "cell_type": "markdown",
   "metadata": {
    "deletable": true,
    "editable": true
   },
   "source": [
    "### Show Stats\n",
    "Implement the function `print_stats` to print loss and validation accuracy.  Use the global variables `valid_features` and `valid_labels` to calculate validation accuracy.  Use a keep probability of `1.0` to calculate the loss and validation accuracy."
   ]
  },
  {
   "cell_type": "code",
   "execution_count": 15,
   "metadata": {
    "collapsed": false,
    "deletable": true,
    "editable": true
   },
   "outputs": [],
   "source": [
    "def print_stats(session, feature_batch, label_batch, cost, accuracy):\n",
    "    \"\"\"\n",
    "    Print information about loss and validation accuracy\n",
    "    : session: Current TensorFlow session\n",
    "    : feature_batch: Batch of Numpy image data\n",
    "    : label_batch: Batch of Numpy label data\n",
    "    : cost: TensorFlow cost function\n",
    "    : accuracy: TensorFlow accuracy function\n",
    "    \"\"\"\n",
    "    # TODO: Implement Function\n",
    "    loss = sess.run(cost, feed_dict={\n",
    "        x: feature_batch,\n",
    "        y: label_batch,\n",
    "        keep_prob: 1.})\n",
    "    \n",
    "    train_acc = sess.run(accuracy, feed_dict={\n",
    "        x: feature_batch,\n",
    "        y: label_batch,\n",
    "        keep_prob: 1.})\n",
    "    \n",
    "    valid_acc = sess.run(accuracy, feed_dict={\n",
    "        x: valid_features,\n",
    "        y: valid_labels,\n",
    "        keep_prob: 1.})\n",
    "\n",
    "    print('Loss: {:>10.4f}  Train Acc.: {:.6f}  Validation Acc.: {:.6f}'.format(\n",
    "        loss,\n",
    "        train_acc,\n",
    "        valid_acc))\n",
    "    "
   ]
  },
  {
   "cell_type": "markdown",
   "metadata": {
    "deletable": true,
    "editable": true
   },
   "source": [
    "### Hyperparameters\n",
    "Tune the following parameters:\n",
    "* Set `epochs` to the number of iterations until the network stops learning or start overfitting\n",
    "* Set `batch_size` to the highest number that your machine has memory for.  Most people set them to common sizes of memory:\n",
    " * 64\n",
    " * 128\n",
    " * 256\n",
    " * ...\n",
    "* Set `keep_probability` to the probability of keeping a node using dropout"
   ]
  },
  {
   "cell_type": "code",
   "execution_count": 40,
   "metadata": {
    "collapsed": true,
    "deletable": true,
    "editable": true
   },
   "outputs": [],
   "source": [
    "# TODO: Tune Parameters\n",
    "epochs = 40\n",
    "batch_size = 1024\n",
    "keep_probability = 0.75"
   ]
  },
  {
   "cell_type": "markdown",
   "metadata": {
    "deletable": true,
    "editable": true
   },
   "source": [
    "### Train on a Single CIFAR-10 Batch\n",
    "Instead of training the neural network on all the CIFAR-10 batches of data, let's use a single batch. This should save time while you iterate on the model to get a better accuracy.  Once the final validation accuracy is 50% or greater, run the model on all the data in the next section."
   ]
  },
  {
   "cell_type": "code",
   "execution_count": 43,
   "metadata": {
    "collapsed": false,
    "deletable": true,
    "editable": true
   },
   "outputs": [
    {
     "name": "stdout",
     "output_type": "stream",
     "text": [
      "Checking the Training on a Single Batch...\n",
      "Epoch  1, CIFAR-10 Batch 1:  Loss:     2.3093  Train Acc.: 0.092822  Validation Acc.: 0.104200\n",
      "Epoch  2, CIFAR-10 Batch 1:  Loss:     2.2262  Train Acc.: 0.167079  Validation Acc.: 0.151800\n",
      "Epoch  3, CIFAR-10 Batch 1:  Loss:     2.0859  Train Acc.: 0.212871  Validation Acc.: 0.228400\n",
      "Epoch  4, CIFAR-10 Batch 1:  Loss:     1.9959  Train Acc.: 0.288366  Validation Acc.: 0.274800\n",
      "Epoch  5, CIFAR-10 Batch 1:  Loss:     1.9948  Train Acc.: 0.280941  Validation Acc.: 0.259600\n",
      "Epoch  6, CIFAR-10 Batch 1:  Loss:     1.8466  Train Acc.: 0.334158  Validation Acc.: 0.329000\n",
      "Epoch  7, CIFAR-10 Batch 1:  Loss:     1.6760  Train Acc.: 0.398515  Validation Acc.: 0.388800\n",
      "Epoch  8, CIFAR-10 Batch 1:  Loss:     1.5665  Train Acc.: 0.435644  Validation Acc.: 0.406000\n",
      "Epoch  9, CIFAR-10 Batch 1:  Loss:     1.5151  Train Acc.: 0.469059  Validation Acc.: 0.435200\n",
      "Epoch 10, CIFAR-10 Batch 1:  Loss:     1.4446  Train Acc.: 0.491337  Validation Acc.: 0.459600\n",
      "Epoch 11, CIFAR-10 Batch 1:  Loss:     1.3494  Train Acc.: 0.511139  Validation Acc.: 0.482800\n",
      "Epoch 12, CIFAR-10 Batch 1:  Loss:     1.2918  Train Acc.: 0.532178  Validation Acc.: 0.498800\n",
      "Epoch 13, CIFAR-10 Batch 1:  Loss:     1.2160  Train Acc.: 0.570545  Validation Acc.: 0.520800\n",
      "Epoch 14, CIFAR-10 Batch 1:  Loss:     1.1631  Train Acc.: 0.585396  Validation Acc.: 0.527800\n",
      "Epoch 15, CIFAR-10 Batch 1:  Loss:     1.1384  Train Acc.: 0.602723  Validation Acc.: 0.536000\n",
      "Epoch 16, CIFAR-10 Batch 1:  Loss:     1.1066  Train Acc.: 0.623762  Validation Acc.: 0.538600\n",
      "Epoch 17, CIFAR-10 Batch 1:  Loss:     1.0358  Train Acc.: 0.633663  Validation Acc.: 0.553400\n",
      "Epoch 18, CIFAR-10 Batch 1:  Loss:     0.9778  Train Acc.: 0.647277  Validation Acc.: 0.559000\n",
      "Epoch 19, CIFAR-10 Batch 1:  Loss:     0.9632  Train Acc.: 0.649752  Validation Acc.: 0.550600\n",
      "Epoch 20, CIFAR-10 Batch 1:  Loss:     0.8547  Train Acc.: 0.694307  Validation Acc.: 0.577800\n",
      "Epoch 21, CIFAR-10 Batch 1:  Loss:     0.8186  Train Acc.: 0.706683  Validation Acc.: 0.578400\n",
      "Epoch 22, CIFAR-10 Batch 1:  Loss:     0.8647  Train Acc.: 0.680693  Validation Acc.: 0.553400\n",
      "Epoch 23, CIFAR-10 Batch 1:  Loss:     0.7729  Train Acc.: 0.748762  Validation Acc.: 0.590200\n",
      "Epoch 24, CIFAR-10 Batch 1:  Loss:     0.6916  Train Acc.: 0.766089  Validation Acc.: 0.587600\n",
      "Epoch 25, CIFAR-10 Batch 1:  Loss:     0.6197  Train Acc.: 0.798267  Validation Acc.: 0.595600\n",
      "Epoch 26, CIFAR-10 Batch 1:  Loss:     0.5563  Train Acc.: 0.816832  Validation Acc.: 0.614600\n",
      "Epoch 27, CIFAR-10 Batch 1:  Loss:     0.5390  Train Acc.: 0.825495  Validation Acc.: 0.604000\n",
      "Epoch 28, CIFAR-10 Batch 1:  Loss:     0.4625  Train Acc.: 0.845297  Validation Acc.: 0.606000\n",
      "Epoch 29, CIFAR-10 Batch 1:  Loss:     0.4088  Train Acc.: 0.879951  Validation Acc.: 0.609600\n",
      "Epoch 30, CIFAR-10 Batch 1:  Loss:     0.3798  Train Acc.: 0.889851  Validation Acc.: 0.615000\n",
      "Epoch 31, CIFAR-10 Batch 1:  Loss:     0.3233  Train Acc.: 0.908416  Validation Acc.: 0.614200\n",
      "Epoch 32, CIFAR-10 Batch 1:  Loss:     0.3182  Train Acc.: 0.909653  Validation Acc.: 0.612200\n",
      "Epoch 33, CIFAR-10 Batch 1:  Loss:     0.3027  Train Acc.: 0.909653  Validation Acc.: 0.624200\n",
      "Epoch 34, CIFAR-10 Batch 1:  Loss:     0.2238  Train Acc.: 0.941832  Validation Acc.: 0.627600\n",
      "Epoch 35, CIFAR-10 Batch 1:  Loss:     0.2444  Train Acc.: 0.926980  Validation Acc.: 0.605000\n",
      "Epoch 36, CIFAR-10 Batch 1:  Loss:     0.1823  Train Acc.: 0.955446  Validation Acc.: 0.629600\n",
      "Epoch 37, CIFAR-10 Batch 1:  Loss:     0.1734  Train Acc.: 0.956683  Validation Acc.: 0.625200\n",
      "Epoch 38, CIFAR-10 Batch 1:  Loss:     0.1261  Train Acc.: 0.962871  Validation Acc.: 0.634400\n",
      "Epoch 39, CIFAR-10 Batch 1:  Loss:     0.0829  Train Acc.: 0.982673  Validation Acc.: 0.638800\n",
      "Epoch 40, CIFAR-10 Batch 1:  Loss:     0.0829  Train Acc.: 0.978960  Validation Acc.: 0.625800\n"
     ]
    }
   ],
   "source": [
    "\"\"\"\n",
    "DON'T MODIFY ANYTHING IN THIS CELL\n",
    "\"\"\"\n",
    "print('Checking the Training on a Single Batch...')\n",
    "with tf.Session() as sess:\n",
    "    # Initializing the variables\n",
    "    sess.run(tf.global_variables_initializer())\n",
    "    \n",
    "    # Training cycle\n",
    "    for epoch in range(epochs):\n",
    "        batch_i = 1\n",
    "        for batch_features, batch_labels in helper.load_preprocess_training_batch(batch_i, batch_size):\n",
    "            train_neural_network(sess, optimizer, keep_probability, batch_features, batch_labels)\n",
    "        print('Epoch {:>2}, CIFAR-10 Batch {}:  '.format(epoch + 1, batch_i), end='')\n",
    "        print_stats(sess, batch_features, batch_labels, cost, accuracy)"
   ]
  },
  {
   "cell_type": "markdown",
   "metadata": {
    "deletable": true,
    "editable": true
   },
   "source": [
    "### Fully Train the Model\n",
    "Now that you got a good accuracy with a single CIFAR-10 batch, try it with all five batches."
   ]
  },
  {
   "cell_type": "code",
   "execution_count": 44,
   "metadata": {
    "collapsed": false,
    "deletable": true,
    "editable": true
   },
   "outputs": [
    {
     "name": "stdout",
     "output_type": "stream",
     "text": [
      "Training...\n",
      "Epoch  1, CIFAR-10 Batch 1:  Loss:     2.1799  Train Acc.: 0.189356  Validation Acc.: 0.203400\n",
      "Epoch  1, CIFAR-10 Batch 2:  Loss:     2.0285  Train Acc.: 0.248762  Validation Acc.: 0.231200\n",
      "Epoch  1, CIFAR-10 Batch 3:  Loss:     1.9775  Train Acc.: 0.266089  Validation Acc.: 0.248600\n",
      "Epoch  1, CIFAR-10 Batch 4:  Loss:     1.8097  Train Acc.: 0.370050  Validation Acc.: 0.354200\n",
      "Epoch  1, CIFAR-10 Batch 5:  Loss:     1.7549  Train Acc.: 0.341584  Validation Acc.: 0.349400\n",
      "Epoch  2, CIFAR-10 Batch 1:  Loss:     1.6224  Train Acc.: 0.397277  Validation Acc.: 0.386600\n",
      "Epoch  2, CIFAR-10 Batch 2:  Loss:     1.5888  Train Acc.: 0.404703  Validation Acc.: 0.409800\n",
      "Epoch  2, CIFAR-10 Batch 3:  Loss:     1.4758  Train Acc.: 0.467822  Validation Acc.: 0.411800\n",
      "Epoch  2, CIFAR-10 Batch 4:  Loss:     1.4574  Train Acc.: 0.459158  Validation Acc.: 0.449800\n",
      "Epoch  2, CIFAR-10 Batch 5:  Loss:     1.4407  Train Acc.: 0.481436  Validation Acc.: 0.456400\n",
      "Epoch  3, CIFAR-10 Batch 1:  Loss:     1.3628  Train Acc.: 0.504950  Validation Acc.: 0.488400\n",
      "Epoch  3, CIFAR-10 Batch 2:  Loss:     1.4127  Train Acc.: 0.475248  Validation Acc.: 0.484000\n",
      "Epoch  3, CIFAR-10 Batch 3:  Loss:     1.2406  Train Acc.: 0.547030  Validation Acc.: 0.505400\n",
      "Epoch  3, CIFAR-10 Batch 4:  Loss:     1.2149  Train Acc.: 0.563119  Validation Acc.: 0.530400\n",
      "Epoch  3, CIFAR-10 Batch 5:  Loss:     1.2419  Train Acc.: 0.558168  Validation Acc.: 0.525000\n",
      "Epoch  4, CIFAR-10 Batch 1:  Loss:     1.2216  Train Acc.: 0.571782  Validation Acc.: 0.530400\n",
      "Epoch  4, CIFAR-10 Batch 2:  Loss:     1.3264  Train Acc.: 0.524752  Validation Acc.: 0.512200\n",
      "Epoch  4, CIFAR-10 Batch 3:  Loss:     1.0978  Train Acc.: 0.620049  Validation Acc.: 0.559800\n",
      "Epoch  4, CIFAR-10 Batch 4:  Loss:     1.0502  Train Acc.: 0.626238  Validation Acc.: 0.589800\n",
      "Epoch  4, CIFAR-10 Batch 5:  Loss:     0.9845  Train Acc.: 0.668317  Validation Acc.: 0.597200\n",
      "Epoch  5, CIFAR-10 Batch 1:  Loss:     1.0534  Train Acc.: 0.637376  Validation Acc.: 0.593200\n",
      "Epoch  5, CIFAR-10 Batch 2:  Loss:     1.0874  Train Acc.: 0.615099  Validation Acc.: 0.608800\n",
      "Epoch  5, CIFAR-10 Batch 3:  Loss:     0.9566  Train Acc.: 0.670792  Validation Acc.: 0.606800\n",
      "Epoch  5, CIFAR-10 Batch 4:  Loss:     0.9051  Train Acc.: 0.689356  Validation Acc.: 0.631600\n",
      "Epoch  5, CIFAR-10 Batch 5:  Loss:     0.8796  Train Acc.: 0.694307  Validation Acc.: 0.624800\n",
      "Epoch  6, CIFAR-10 Batch 1:  Loss:     0.9135  Train Acc.: 0.684406  Validation Acc.: 0.628800\n",
      "Epoch  6, CIFAR-10 Batch 2:  Loss:     1.0346  Train Acc.: 0.649752  Validation Acc.: 0.615400\n",
      "Epoch  6, CIFAR-10 Batch 3:  Loss:     0.8726  Train Acc.: 0.688119  Validation Acc.: 0.644800\n",
      "Epoch  6, CIFAR-10 Batch 4:  Loss:     0.8087  Train Acc.: 0.725248  Validation Acc.: 0.653800\n",
      "Epoch  6, CIFAR-10 Batch 5:  Loss:     0.7759  Train Acc.: 0.738861  Validation Acc.: 0.651800\n",
      "Epoch  7, CIFAR-10 Batch 1:  Loss:     0.7917  Train Acc.: 0.722772  Validation Acc.: 0.665800\n",
      "Epoch  7, CIFAR-10 Batch 2:  Loss:     0.8883  Train Acc.: 0.690594  Validation Acc.: 0.657400\n",
      "Epoch  7, CIFAR-10 Batch 3:  Loss:     0.7464  Train Acc.: 0.737624  Validation Acc.: 0.670800\n",
      "Epoch  7, CIFAR-10 Batch 4:  Loss:     0.6962  Train Acc.: 0.763614  Validation Acc.: 0.680400\n",
      "Epoch  7, CIFAR-10 Batch 5:  Loss:     0.6997  Train Acc.: 0.782178  Validation Acc.: 0.663600\n",
      "Epoch  8, CIFAR-10 Batch 1:  Loss:     0.7131  Train Acc.: 0.768564  Validation Acc.: 0.688600\n",
      "Epoch  8, CIFAR-10 Batch 2:  Loss:     0.8048  Train Acc.: 0.725248  Validation Acc.: 0.678200\n",
      "Epoch  8, CIFAR-10 Batch 3:  Loss:     0.6816  Train Acc.: 0.748762  Validation Acc.: 0.689400\n",
      "Epoch  8, CIFAR-10 Batch 4:  Loss:     0.6752  Train Acc.: 0.756188  Validation Acc.: 0.675000\n",
      "Epoch  8, CIFAR-10 Batch 5:  Loss:     0.5931  Train Acc.: 0.814356  Validation Acc.: 0.688000\n",
      "Epoch  9, CIFAR-10 Batch 1:  Loss:     0.6108  Train Acc.: 0.804455  Validation Acc.: 0.696400\n",
      "Epoch  9, CIFAR-10 Batch 2:  Loss:     0.7089  Train Acc.: 0.771040  Validation Acc.: 0.693600\n",
      "Epoch  9, CIFAR-10 Batch 3:  Loss:     0.5913  Train Acc.: 0.793317  Validation Acc.: 0.708800\n",
      "Epoch  9, CIFAR-10 Batch 4:  Loss:     0.5914  Train Acc.: 0.804455  Validation Acc.: 0.698600\n",
      "Epoch  9, CIFAR-10 Batch 5:  Loss:     0.5275  Train Acc.: 0.840347  Validation Acc.: 0.707800\n",
      "Epoch 10, CIFAR-10 Batch 1:  Loss:     0.5473  Train Acc.: 0.820545  Validation Acc.: 0.699400\n",
      "Epoch 10, CIFAR-10 Batch 2:  Loss:     0.6499  Train Acc.: 0.777228  Validation Acc.: 0.690800\n",
      "Epoch 10, CIFAR-10 Batch 3:  Loss:     0.5471  Train Acc.: 0.808168  Validation Acc.: 0.708200\n",
      "Epoch 10, CIFAR-10 Batch 4:  Loss:     0.5162  Train Acc.: 0.834158  Validation Acc.: 0.703600\n",
      "Epoch 10, CIFAR-10 Batch 5:  Loss:     0.5086  Train Acc.: 0.829208  Validation Acc.: 0.705000\n",
      "Epoch 11, CIFAR-10 Batch 1:  Loss:     0.5071  Train Acc.: 0.829208  Validation Acc.: 0.711200\n",
      "Epoch 11, CIFAR-10 Batch 2:  Loss:     0.5578  Train Acc.: 0.808168  Validation Acc.: 0.727200\n",
      "Epoch 11, CIFAR-10 Batch 3:  Loss:     0.5149  Train Acc.: 0.827970  Validation Acc.: 0.712400\n",
      "Epoch 11, CIFAR-10 Batch 4:  Loss:     0.4721  Train Acc.: 0.835396  Validation Acc.: 0.705400\n",
      "Epoch 11, CIFAR-10 Batch 5:  Loss:     0.4272  Train Acc.: 0.861386  Validation Acc.: 0.721000\n",
      "Epoch 12, CIFAR-10 Batch 1:  Loss:     0.4387  Train Acc.: 0.860148  Validation Acc.: 0.724600\n",
      "Epoch 12, CIFAR-10 Batch 2:  Loss:     0.4955  Train Acc.: 0.846535  Validation Acc.: 0.727600\n",
      "Epoch 12, CIFAR-10 Batch 3:  Loss:     0.4337  Train Acc.: 0.855198  Validation Acc.: 0.726400\n",
      "Epoch 12, CIFAR-10 Batch 4:  Loss:     0.4243  Train Acc.: 0.861386  Validation Acc.: 0.725600\n",
      "Epoch 12, CIFAR-10 Batch 5:  Loss:     0.3490  Train Acc.: 0.893564  Validation Acc.: 0.728800\n",
      "Epoch 13, CIFAR-10 Batch 1:  Loss:     0.4032  Train Acc.: 0.867574  Validation Acc.: 0.719000\n",
      "Epoch 13, CIFAR-10 Batch 2:  Loss:     0.4313  Train Acc.: 0.860148  Validation Acc.: 0.724200\n",
      "Epoch 13, CIFAR-10 Batch 3:  Loss:     0.3894  Train Acc.: 0.873762  Validation Acc.: 0.725000\n",
      "Epoch 13, CIFAR-10 Batch 4:  Loss:     0.3793  Train Acc.: 0.888614  Validation Acc.: 0.724000\n",
      "Epoch 13, CIFAR-10 Batch 5:  Loss:     0.2847  Train Acc.: 0.926980  Validation Acc.: 0.741000\n",
      "Epoch 14, CIFAR-10 Batch 1:  Loss:     0.3624  Train Acc.: 0.878713  Validation Acc.: 0.721200\n",
      "Epoch 14, CIFAR-10 Batch 2:  Loss:     0.3854  Train Acc.: 0.879950  Validation Acc.: 0.733000\n",
      "Epoch 14, CIFAR-10 Batch 3:  Loss:     0.3261  Train Acc.: 0.905941  Validation Acc.: 0.733400\n",
      "Epoch 14, CIFAR-10 Batch 4:  Loss:     0.3260  Train Acc.: 0.899752  Validation Acc.: 0.722600\n",
      "Epoch 14, CIFAR-10 Batch 5:  Loss:     0.2766  Train Acc.: 0.930693  Validation Acc.: 0.732600\n",
      "Epoch 15, CIFAR-10 Batch 1:  Loss:     0.3083  Train Acc.: 0.904703  Validation Acc.: 0.736600\n",
      "Epoch 15, CIFAR-10 Batch 2:  Loss:     0.3493  Train Acc.: 0.884901  Validation Acc.: 0.727200\n",
      "Epoch 15, CIFAR-10 Batch 3:  Loss:     0.3366  Train Acc.: 0.893564  Validation Acc.: 0.722000\n",
      "Epoch 15, CIFAR-10 Batch 4:  Loss:     0.2879  Train Acc.: 0.925743  Validation Acc.: 0.742200\n",
      "Epoch 15, CIFAR-10 Batch 5:  Loss:     0.2809  Train Acc.: 0.917079  Validation Acc.: 0.725800\n",
      "Epoch 16, CIFAR-10 Batch 1:  Loss:     0.2948  Train Acc.: 0.898515  Validation Acc.: 0.736400\n",
      "Epoch 16, CIFAR-10 Batch 2:  Loss:     0.3013  Train Acc.: 0.910891  Validation Acc.: 0.723600\n",
      "Epoch 16, CIFAR-10 Batch 3:  Loss:     0.2982  Train Acc.: 0.909653  Validation Acc.: 0.723200\n",
      "Epoch 16, CIFAR-10 Batch 4:  Loss:     0.2901  Train Acc.: 0.912129  Validation Acc.: 0.722800\n",
      "Epoch 16, CIFAR-10 Batch 5:  Loss:     0.2316  Train Acc.: 0.920792  Validation Acc.: 0.729800\n",
      "Epoch 17, CIFAR-10 Batch 1:  Loss:     0.2376  Train Acc.: 0.925743  Validation Acc.: 0.739600\n",
      "Epoch 17, CIFAR-10 Batch 2:  Loss:     0.2752  Train Acc.: 0.922030  Validation Acc.: 0.733400\n",
      "Epoch 17, CIFAR-10 Batch 3:  Loss:     0.2400  Train Acc.: 0.936881  Validation Acc.: 0.731200\n",
      "Epoch 17, CIFAR-10 Batch 4:  Loss:     0.2364  Train Acc.: 0.948020  Validation Acc.: 0.730200\n",
      "Epoch 17, CIFAR-10 Batch 5:  Loss:     0.1746  Train Acc.: 0.950495  Validation Acc.: 0.740400\n",
      "Epoch 18, CIFAR-10 Batch 1:  Loss:     0.1940  Train Acc.: 0.954208  Validation Acc.: 0.745200\n",
      "Epoch 18, CIFAR-10 Batch 2:  Loss:     0.2195  Train Acc.: 0.935643  Validation Acc.: 0.750800\n",
      "Epoch 18, CIFAR-10 Batch 3:  Loss:     0.2013  Train Acc.: 0.933168  Validation Acc.: 0.729000\n",
      "Epoch 18, CIFAR-10 Batch 4:  Loss:     0.1932  Train Acc.: 0.944307  Validation Acc.: 0.738800\n",
      "Epoch 18, CIFAR-10 Batch 5:  Loss:     0.1439  Train Acc.: 0.967822  Validation Acc.: 0.741600\n",
      "Epoch 19, CIFAR-10 Batch 1:  Loss:     0.1555  Train Acc.: 0.946782  Validation Acc.: 0.741800\n",
      "Epoch 19, CIFAR-10 Batch 2:  Loss:     0.1921  Train Acc.: 0.945545  Validation Acc.: 0.736600\n",
      "Epoch 19, CIFAR-10 Batch 3:  Loss:     0.1416  Train Acc.: 0.962871  Validation Acc.: 0.744600\n",
      "Epoch 19, CIFAR-10 Batch 4:  Loss:     0.1477  Train Acc.: 0.961634  Validation Acc.: 0.748800\n",
      "Epoch 19, CIFAR-10 Batch 5:  Loss:     0.1347  Train Acc.: 0.962871  Validation Acc.: 0.737200\n",
      "Epoch 20, CIFAR-10 Batch 1:  Loss:     0.1289  Train Acc.: 0.969059  Validation Acc.: 0.738200\n",
      "Epoch 20, CIFAR-10 Batch 2:  Loss:     0.1600  Train Acc.: 0.957921  Validation Acc.: 0.738200\n",
      "Epoch 20, CIFAR-10 Batch 3:  Loss:     0.1527  Train Acc.: 0.956683  Validation Acc.: 0.735400\n",
      "Epoch 20, CIFAR-10 Batch 4:  Loss:     0.1461  Train Acc.: 0.961634  Validation Acc.: 0.745000\n",
      "Epoch 20, CIFAR-10 Batch 5:  Loss:     0.1151  Train Acc.: 0.969059  Validation Acc.: 0.738400\n",
      "Epoch 21, CIFAR-10 Batch 1:  Loss:     0.1176  Train Acc.: 0.970297  Validation Acc.: 0.747000\n",
      "Epoch 21, CIFAR-10 Batch 2:  Loss:     0.1215  Train Acc.: 0.975248  Validation Acc.: 0.737800\n",
      "Epoch 21, CIFAR-10 Batch 3:  Loss:     0.1974  Train Acc.: 0.938119  Validation Acc.: 0.705000\n",
      "Epoch 21, CIFAR-10 Batch 4:  Loss:     0.1289  Train Acc.: 0.975248  Validation Acc.: 0.736600\n",
      "Epoch 21, CIFAR-10 Batch 5:  Loss:     0.1021  Train Acc.: 0.978960  Validation Acc.: 0.729000\n",
      "Epoch 22, CIFAR-10 Batch 1:  Loss:     0.1505  Train Acc.: 0.957921  Validation Acc.: 0.721200\n",
      "Epoch 22, CIFAR-10 Batch 2:  Loss:     0.1027  Train Acc.: 0.975248  Validation Acc.: 0.734400\n",
      "Epoch 22, CIFAR-10 Batch 3:  Loss:     0.1477  Train Acc.: 0.954208  Validation Acc.: 0.721400\n",
      "Epoch 22, CIFAR-10 Batch 4:  Loss:     0.1285  Train Acc.: 0.965347  Validation Acc.: 0.742200\n",
      "Epoch 22, CIFAR-10 Batch 5:  Loss:     0.1016  Train Acc.: 0.977723  Validation Acc.: 0.737600\n",
      "Epoch 23, CIFAR-10 Batch 1:  Loss:     0.1030  Train Acc.: 0.974010  Validation Acc.: 0.735800\n",
      "Epoch 23, CIFAR-10 Batch 2:  Loss:     0.1005  Train Acc.: 0.974010  Validation Acc.: 0.735800\n",
      "Epoch 23, CIFAR-10 Batch 3:  Loss:     0.0836  Train Acc.: 0.983911  Validation Acc.: 0.747200\n",
      "Epoch 23, CIFAR-10 Batch 4:  Loss:     0.1265  Train Acc.: 0.966584  Validation Acc.: 0.724000\n",
      "Epoch 23, CIFAR-10 Batch 5:  Loss:     0.0812  Train Acc.: 0.985149  Validation Acc.: 0.746000\n",
      "Epoch 24, CIFAR-10 Batch 1:  Loss:     0.1004  Train Acc.: 0.970297  Validation Acc.: 0.739600\n",
      "Epoch 24, CIFAR-10 Batch 2:  Loss:     0.0649  Train Acc.: 0.991337  Validation Acc.: 0.742600\n",
      "Epoch 24, CIFAR-10 Batch 3:  Loss:     0.0832  Train Acc.: 0.985148  Validation Acc.: 0.731800\n",
      "Epoch 24, CIFAR-10 Batch 4:  Loss:     0.0829  Train Acc.: 0.987624  Validation Acc.: 0.736400\n",
      "Epoch 24, CIFAR-10 Batch 5:  Loss:     0.0711  Train Acc.: 0.983911  Validation Acc.: 0.751000\n",
      "Epoch 25, CIFAR-10 Batch 1:  Loss:     0.0560  Train Acc.: 0.990099  Validation Acc.: 0.749000\n",
      "Epoch 25, CIFAR-10 Batch 2:  Loss:     0.0700  Train Acc.: 0.988861  Validation Acc.: 0.740400\n",
      "Epoch 25, CIFAR-10 Batch 3:  Loss:     0.0675  Train Acc.: 0.981436  Validation Acc.: 0.736200\n",
      "Epoch 25, CIFAR-10 Batch 4:  Loss:     0.0633  Train Acc.: 0.993812  Validation Acc.: 0.729600\n",
      "Epoch 25, CIFAR-10 Batch 5:  Loss:     0.0569  Train Acc.: 0.988861  Validation Acc.: 0.753200\n",
      "Epoch 26, CIFAR-10 Batch 1:  Loss:     0.0527  Train Acc.: 0.988861  Validation Acc.: 0.740400\n",
      "Epoch 26, CIFAR-10 Batch 2:  Loss:     0.0583  Train Acc.: 0.987624  Validation Acc.: 0.737000\n",
      "Epoch 26, CIFAR-10 Batch 3:  Loss:     0.0451  Train Acc.: 0.995049  Validation Acc.: 0.738800\n",
      "Epoch 26, CIFAR-10 Batch 4:  Loss:     0.0511  Train Acc.: 0.990099  Validation Acc.: 0.737400\n",
      "Epoch 26, CIFAR-10 Batch 5:  Loss:     0.0508  Train Acc.: 0.990099  Validation Acc.: 0.744600\n",
      "Epoch 27, CIFAR-10 Batch 1:  Loss:     0.0429  Train Acc.: 0.998762  Validation Acc.: 0.739000\n",
      "Epoch 27, CIFAR-10 Batch 2:  Loss:     0.0587  Train Acc.: 0.988861  Validation Acc.: 0.738800\n",
      "Epoch 27, CIFAR-10 Batch 3:  Loss:     0.0539  Train Acc.: 0.991337  Validation Acc.: 0.739200\n",
      "Epoch 27, CIFAR-10 Batch 4:  Loss:     0.0515  Train Acc.: 0.992574  Validation Acc.: 0.728600\n",
      "Epoch 27, CIFAR-10 Batch 5:  Loss:     0.0762  Train Acc.: 0.988861  Validation Acc.: 0.725200\n",
      "Epoch 28, CIFAR-10 Batch 1:  Loss:     0.0516  Train Acc.: 0.987624  Validation Acc.: 0.743400\n",
      "Epoch 28, CIFAR-10 Batch 2:  Loss:     0.0528  Train Acc.: 0.992574  Validation Acc.: 0.746600\n",
      "Epoch 28, CIFAR-10 Batch 3:  Loss:     0.0439  Train Acc.: 0.991337  Validation Acc.: 0.743000\n",
      "Epoch 28, CIFAR-10 Batch 4:  Loss:     0.0368  Train Acc.: 0.995049  Validation Acc.: 0.741000\n",
      "Epoch 28, CIFAR-10 Batch 5:  Loss:     0.0382  Train Acc.: 0.995049  Validation Acc.: 0.746000\n",
      "Epoch 29, CIFAR-10 Batch 1:  Loss:     0.0326  Train Acc.: 0.996287  Validation Acc.: 0.748600\n",
      "Epoch 29, CIFAR-10 Batch 2:  Loss:     0.0412  Train Acc.: 0.990099  Validation Acc.: 0.750400\n",
      "Epoch 29, CIFAR-10 Batch 3:  Loss:     0.0443  Train Acc.: 0.990099  Validation Acc.: 0.744400\n",
      "Epoch 29, CIFAR-10 Batch 4:  Loss:     0.0312  Train Acc.: 0.995049  Validation Acc.: 0.746200\n",
      "Epoch 29, CIFAR-10 Batch 5:  Loss:     0.0328  Train Acc.: 0.993812  Validation Acc.: 0.747000\n",
      "Epoch 30, CIFAR-10 Batch 1:  Loss:     0.0405  Train Acc.: 0.986386  Validation Acc.: 0.742800\n",
      "Epoch 30, CIFAR-10 Batch 2:  Loss:     0.0390  Train Acc.: 0.991337  Validation Acc.: 0.743400\n",
      "Epoch 30, CIFAR-10 Batch 3:  Loss:     0.0272  Train Acc.: 0.995049  Validation Acc.: 0.749400\n",
      "Epoch 30, CIFAR-10 Batch 4:  Loss:     0.0200  Train Acc.: 0.997525  Validation Acc.: 0.750800\n",
      "Epoch 30, CIFAR-10 Batch 5:  Loss:     0.0180  Train Acc.: 0.998762  Validation Acc.: 0.754400\n",
      "Epoch 31, CIFAR-10 Batch 1:  Loss:     0.0343  Train Acc.: 0.990099  Validation Acc.: 0.738800\n",
      "Epoch 31, CIFAR-10 Batch 2:  Loss:     0.0275  Train Acc.: 0.998762  Validation Acc.: 0.747200\n",
      "Epoch 31, CIFAR-10 Batch 3:  Loss:     0.0350  Train Acc.: 0.992574  Validation Acc.: 0.753800\n",
      "Epoch 31, CIFAR-10 Batch 4:  Loss:     0.0217  Train Acc.: 0.997525  Validation Acc.: 0.747600\n",
      "Epoch 31, CIFAR-10 Batch 5:  Loss:     0.0226  Train Acc.: 0.997525  Validation Acc.: 0.750400\n",
      "Epoch 32, CIFAR-10 Batch 1:  Loss:     0.0242  Train Acc.: 0.997525  Validation Acc.: 0.744200\n",
      "Epoch 32, CIFAR-10 Batch 2:  Loss:     0.0303  Train Acc.: 0.993812  Validation Acc.: 0.743200\n",
      "Epoch 32, CIFAR-10 Batch 3:  Loss:     0.0411  Train Acc.: 0.995049  Validation Acc.: 0.738800\n",
      "Epoch 32, CIFAR-10 Batch 4:  Loss:     0.0213  Train Acc.: 0.998762  Validation Acc.: 0.743200\n",
      "Epoch 32, CIFAR-10 Batch 5:  Loss:     0.0216  Train Acc.: 0.997525  Validation Acc.: 0.747400\n",
      "Epoch 33, CIFAR-10 Batch 1:  Loss:     0.0230  Train Acc.: 0.995049  Validation Acc.: 0.749600\n",
      "Epoch 33, CIFAR-10 Batch 2:  Loss:     0.0216  Train Acc.: 0.993812  Validation Acc.: 0.747400\n",
      "Epoch 33, CIFAR-10 Batch 3:  Loss:     0.0228  Train Acc.: 0.998762  Validation Acc.: 0.742200\n",
      "Epoch 33, CIFAR-10 Batch 4:  Loss:     0.0225  Train Acc.: 0.996287  Validation Acc.: 0.740400\n",
      "Epoch 33, CIFAR-10 Batch 5:  Loss:     0.0210  Train Acc.: 0.997525  Validation Acc.: 0.748000\n",
      "Epoch 34, CIFAR-10 Batch 1:  Loss:     0.0302  Train Acc.: 0.992574  Validation Acc.: 0.751000\n",
      "Epoch 34, CIFAR-10 Batch 2:  Loss:     0.0178  Train Acc.: 0.997525  Validation Acc.: 0.752000\n",
      "Epoch 34, CIFAR-10 Batch 3:  Loss:     0.0214  Train Acc.: 0.996287  Validation Acc.: 0.745000\n",
      "Epoch 34, CIFAR-10 Batch 4:  Loss:     0.0188  Train Acc.: 0.997525  Validation Acc.: 0.749200\n",
      "Epoch 34, CIFAR-10 Batch 5:  Loss:     0.0188  Train Acc.: 0.996287  Validation Acc.: 0.747600\n",
      "Epoch 35, CIFAR-10 Batch 1:  Loss:     0.0136  Train Acc.: 0.997525  Validation Acc.: 0.750800\n",
      "Epoch 35, CIFAR-10 Batch 2:  Loss:     0.0179  Train Acc.: 0.997525  Validation Acc.: 0.744400\n",
      "Epoch 35, CIFAR-10 Batch 3:  Loss:     0.0192  Train Acc.: 0.996287  Validation Acc.: 0.741200\n",
      "Epoch 35, CIFAR-10 Batch 4:  Loss:     0.0165  Train Acc.: 1.000000  Validation Acc.: 0.736800\n",
      "Epoch 35, CIFAR-10 Batch 5:  Loss:     0.0176  Train Acc.: 0.997525  Validation Acc.: 0.744400\n",
      "Epoch 36, CIFAR-10 Batch 1:  Loss:     0.0185  Train Acc.: 0.996287  Validation Acc.: 0.748400\n",
      "Epoch 36, CIFAR-10 Batch 2:  Loss:     0.0152  Train Acc.: 0.998762  Validation Acc.: 0.751400\n",
      "Epoch 36, CIFAR-10 Batch 3:  Loss:     0.0171  Train Acc.: 0.997525  Validation Acc.: 0.744200\n",
      "Epoch 36, CIFAR-10 Batch 4:  Loss:     0.0142  Train Acc.: 0.997525  Validation Acc.: 0.749800\n",
      "Epoch 36, CIFAR-10 Batch 5:  Loss:     0.0084  Train Acc.: 1.000000  Validation Acc.: 0.754800\n",
      "Epoch 37, CIFAR-10 Batch 1:  Loss:     0.0152  Train Acc.: 0.998762  Validation Acc.: 0.748000\n",
      "Epoch 37, CIFAR-10 Batch 2:  Loss:     0.0116  Train Acc.: 0.998762  Validation Acc.: 0.752000\n",
      "Epoch 37, CIFAR-10 Batch 3:  Loss:     0.0109  Train Acc.: 0.998762  Validation Acc.: 0.748600\n",
      "Epoch 37, CIFAR-10 Batch 4:  Loss:     0.0120  Train Acc.: 0.997525  Validation Acc.: 0.757000\n",
      "Epoch 37, CIFAR-10 Batch 5:  Loss:     0.0080  Train Acc.: 1.000000  Validation Acc.: 0.751000\n",
      "Epoch 38, CIFAR-10 Batch 1:  Loss:     0.0116  Train Acc.: 0.996287  Validation Acc.: 0.742800\n",
      "Epoch 38, CIFAR-10 Batch 2:  Loss:     0.0128  Train Acc.: 0.998762  Validation Acc.: 0.740600\n",
      "Epoch 38, CIFAR-10 Batch 3:  Loss:     0.0123  Train Acc.: 1.000000  Validation Acc.: 0.747000\n",
      "Epoch 38, CIFAR-10 Batch 4:  Loss:     0.0087  Train Acc.: 1.000000  Validation Acc.: 0.751400\n",
      "Epoch 38, CIFAR-10 Batch 5:  Loss:     0.0098  Train Acc.: 0.997525  Validation Acc.: 0.747000\n",
      "Epoch 39, CIFAR-10 Batch 1:  Loss:     0.0119  Train Acc.: 0.998762  Validation Acc.: 0.744600\n",
      "Epoch 39, CIFAR-10 Batch 2:  Loss:     0.0100  Train Acc.: 0.997525  Validation Acc.: 0.757800\n",
      "Epoch 39, CIFAR-10 Batch 3:  Loss:     0.0159  Train Acc.: 0.995049  Validation Acc.: 0.758800\n",
      "Epoch 39, CIFAR-10 Batch 4:  Loss:     0.0163  Train Acc.: 0.997525  Validation Acc.: 0.756000\n",
      "Epoch 39, CIFAR-10 Batch 5:  Loss:     0.0083  Train Acc.: 1.000000  Validation Acc.: 0.752600\n",
      "Epoch 40, CIFAR-10 Batch 1:  Loss:     0.0071  Train Acc.: 0.998762  Validation Acc.: 0.757200\n",
      "Epoch 40, CIFAR-10 Batch 2:  Loss:     0.0038  Train Acc.: 1.000000  Validation Acc.: 0.763600\n",
      "Epoch 40, CIFAR-10 Batch 3:  Loss:     0.0069  Train Acc.: 1.000000  Validation Acc.: 0.751600\n",
      "Epoch 40, CIFAR-10 Batch 4:  Loss:     0.0067  Train Acc.: 1.000000  Validation Acc.: 0.760400\n",
      "Epoch 40, CIFAR-10 Batch 5:  Loss:     0.0044  Train Acc.: 1.000000  Validation Acc.: 0.757000\n"
     ]
    }
   ],
   "source": [
    "\"\"\"\n",
    "DON'T MODIFY ANYTHING IN THIS CELL\n",
    "\"\"\"\n",
    "save_model_path = './image_classification'\n",
    "\n",
    "print('Training...')\n",
    "with tf.Session() as sess:\n",
    "    # Initializing the variables\n",
    "    sess.run(tf.global_variables_initializer())\n",
    "    \n",
    "    # Training cycle\n",
    "    for epoch in range(epochs):\n",
    "        # Loop over all batches\n",
    "        n_batches = 5\n",
    "        for batch_i in range(1, n_batches + 1):\n",
    "            for batch_features, batch_labels in helper.load_preprocess_training_batch(batch_i, batch_size):\n",
    "                train_neural_network(sess, optimizer, keep_probability, batch_features, batch_labels)\n",
    "            print('Epoch {:>2}, CIFAR-10 Batch {}:  '.format(epoch + 1, batch_i), end='')\n",
    "            print_stats(sess, batch_features, batch_labels, cost, accuracy)\n",
    "            \n",
    "    # Save Model\n",
    "    saver = tf.train.Saver()\n",
    "    save_path = saver.save(sess, save_model_path)"
   ]
  },
  {
   "cell_type": "markdown",
   "metadata": {
    "deletable": true,
    "editable": true
   },
   "source": [
    "# Checkpoint\n",
    "The model has been saved to disk.\n",
    "## Test Model\n",
    "Test your model against the test dataset.  This will be your final accuracy. You should have an accuracy greater than 50%. If you don't, keep tweaking the model architecture and parameters."
   ]
  },
  {
   "cell_type": "code",
   "execution_count": 45,
   "metadata": {
    "collapsed": false,
    "deletable": true,
    "editable": true
   },
   "outputs": [
    {
     "name": "stdout",
     "output_type": "stream",
     "text": [
      "Testing Accuracy: 0.7450972557067871\n",
      "\n"
     ]
    },
    {
     "data": {
      "image/png": "[encoded data removed]",
      "text/plain": [
       "<matplotlib.figure.Figure at 0x7ff13c1c1f28>"
      ]
     },
     "metadata": {
      "image/png": {
       "height": 319,
       "width": 355
      }
     },
     "output_type": "display_data"
    }
   ],
   "source": [
    "\"\"\"\n",
    "DON'T MODIFY ANYTHING IN THIS CELL\n",
    "\"\"\"\n",
    "%matplotlib inline\n",
    "%config InlineBackend.figure_format = 'retina'\n",
    "\n",
    "import tensorflow as tf\n",
    "import pickle\n",
    "import helper\n",
    "import random\n",
    "\n",
    "# Set batch size if not already set\n",
    "try:\n",
    "    if batch_size:\n",
    "        pass\n",
    "except NameError:\n",
    "    batch_size = 64\n",
    "\n",
    "save_model_path = './image_classification'\n",
    "n_samples = 4\n",
    "top_n_predictions = 3\n",
    "\n",
    "def test_model():\n",
    "    \"\"\"\n",
    "    Test the saved model against the test dataset\n",
    "    \"\"\"\n",
    "\n",
    "    test_features, test_labels = pickle.load(open('preprocess_test.p', mode='rb'))\n",
    "    loaded_graph = tf.Graph()\n",
    "\n",
    "    with tf.Session(graph=loaded_graph) as sess:\n",
    "        # Load model\n",
    "        loader = tf.train.import_meta_graph(save_model_path + '.meta')\n",
    "        loader.restore(sess, save_model_path)\n",
    "\n",
    "        # Get Tensors from loaded model\n",
    "        loaded_x = loaded_graph.get_tensor_by_name('x:0')\n",
    "        loaded_y = loaded_graph.get_tensor_by_name('y:0')\n",
    "        loaded_keep_prob = loaded_graph.get_tensor_by_name('keep_prob:0')\n",
    "        loaded_logits = loaded_graph.get_tensor_by_name('logits:0')\n",
    "        loaded_acc = loaded_graph.get_tensor_by_name('accuracy:0')\n",
    "        \n",
    "        # Get accuracy in batches for memory limitations\n",
    "        test_batch_acc_total = 0\n",
    "        test_batch_count = 0\n",
    "        \n",
    "        for test_feature_batch, test_label_batch in helper.batch_features_labels(test_features, test_labels, batch_size):\n",
    "            test_batch_acc_total += sess.run(\n",
    "                loaded_acc,\n",
    "                feed_dict={loaded_x: test_feature_batch, loaded_y: test_label_batch, loaded_keep_prob: 1.0})\n",
    "            test_batch_count += 1\n",
    "\n",
    "        print('Testing Accuracy: {}\\n'.format(test_batch_acc_total/test_batch_count))\n",
    "\n",
    "        # Print Random Samples\n",
    "        random_test_features, random_test_labels = tuple(zip(*random.sample(list(zip(test_features, test_labels)), n_samples)))\n",
    "        random_test_predictions = sess.run(\n",
    "            tf.nn.top_k(tf.nn.softmax(loaded_logits), top_n_predictions),\n",
    "            feed_dict={loaded_x: random_test_features, loaded_y: random_test_labels, loaded_keep_prob: 1.0})\n",
    "        helper.display_image_predictions(random_test_features, random_test_labels, random_test_predictions)\n",
    "\n",
    "\n",
    "test_model()"
   ]
  },
  {
   "cell_type": "markdown",
   "metadata": {
    "deletable": true,
    "editable": true
   },
   "source": [
    "## Why 50-80% Accuracy?\n",
    "You might be wondering why you can't get an accuracy any higher. First things first, 50% isn't bad for a simple CNN.  Pure guessing would get you 10% accuracy. However, you might notice people are getting scores [well above 80%](http://rodrigob.github.io/are_we_there_yet/build/classification_datasets_results.html#43494641522d3130).  That's because we haven't taught you all there is to know about neural networks. We still need to cover a few more techniques.\n",
    "## Submitting This Project\n",
    "When submitting this project, make sure to run all the cells before saving the notebook.  Save the notebook file as \"dlnd_image_classification.ipynb\" and save it as a HTML file under \"File\" -> \"Download as\".  Include the \"helper.py\" and \"problem_unittests.py\" files in your submission."
   ]
  }
 ],
 "metadata": {
  "kernelspec": {
   "display_name": "Python 3",
   "language": "python",
   "name": "python3"
  },
  "language_info": {
   "codemirror_mode": {
    "name": "ipython",
    "version": 3
   },
   "file_extension": ".py",
   "mimetype": "text/x-python",
   "name": "python",
   "nbconvert_exporter": "python",
   "pygments_lexer": "ipython3",
   "version": "3.5.2"
  },
  "widgets": {
   "state": {},
   "version": "1.1.2"
  }
 },
 "nbformat": 4,
 "nbformat_minor": 0
}
